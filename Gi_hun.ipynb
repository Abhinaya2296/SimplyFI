{
  "nbformat": 4,
  "nbformat_minor": 0,
  "metadata": {
    "colab": {
      "provenance": []
    },
    "kernelspec": {
      "name": "python3",
      "display_name": "Python 3"
    },
    "language_info": {
      "name": "python"
    }
  },
  "cells": [
    {
      "cell_type": "code",
      "execution_count": null,
      "metadata": {
        "id": "-3xm0AUO0fmM"
      },
      "outputs": [],
      "source": [
        "for i in range(int(input())):\n",
        "    count=0\n",
        "    size,max=map(int,input().split())\n",
        "    lst=list(map(int,input().split()))\n",
        "    for i in lst:\n",
        "        if i>max:\n",
        "            count+=1 \n",
        "    print(count)"
      ]
    }
  ]
}