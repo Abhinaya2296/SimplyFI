{
  "nbformat": 4,
  "nbformat_minor": 0,
  "metadata": {
    "colab": {
      "provenance": []
    },
    "kernelspec": {
      "name": "python3",
      "display_name": "Python 3"
    },
    "language_info": {
      "name": "python"
    }
  },
  "cells": [
    {
      "cell_type": "code",
      "source": [
        "import decimal\n",
        "def currencyInIndiaFormat(n):\n",
        "  d = decimal.Decimal(str(n))\n",
        "  if d.as_tuple().exponent < -2:\n",
        "    s = str(n)\n",
        "  else:\n",
        "    s = '{0:.2f}'.format(n)\n",
        "  l = len(s)\n",
        "  i = l-1;\n",
        "  res = ''\n",
        "  flag = 0\n",
        "  k = 0\n",
        "  while i>=0:\n",
        "    if flag==0:\n",
        "      res = res + s[i]\n",
        "      if s[i]=='.':\n",
        "        flag = 1\n",
        "    elif flag==1:\n",
        "      k = k + 1\n",
        "      res = res + s[i]\n",
        "      if k==3 and i-1>=0:\n",
        "        res = res + ','\n",
        "        flag = 2\n",
        "        k = 0\n",
        "    else:\n",
        "      k = k + 1\n",
        "      res = res + s[i]\n",
        "      if k==2 and i-1>=0:\n",
        "        res = res + ','\n",
        "        flag = 2\n",
        "        k = 0\n",
        "    i = i - 1\n",
        "\n",
        "  return res[::-1]\n",
        "\n",
        "def main():\n",
        "  n = 504678\n",
        "  print(\"INR \" + currencyInIndiaFormat(n)) \n",
        "\n",
        "main()"
      ],
      "metadata": {
        "id": "HRFkrbw0Cp6_",
        "colab": {
          "base_uri": "https://localhost:8080/"
        },
        "outputId": "4c6bafcf-2723-4526-a907-9466c524aa5d"
      },
      "execution_count": 15,
      "outputs": [
        {
          "output_type": "stream",
          "name": "stdout",
          "text": [
            "INR 5,04,678.00\n"
          ]
        }
      ]
    },
    {
      "cell_type": "code",
      "source": [],
      "metadata": {
        "id": "nO9z5Q3TIMD_"
      },
      "execution_count": null,
      "outputs": []
    }
  ]
}